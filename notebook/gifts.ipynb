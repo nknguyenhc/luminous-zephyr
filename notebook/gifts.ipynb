{
 "cells": [
  {
   "cell_type": "code",
   "execution_count": 3,
   "id": "4c6fa023-52f0-4c7f-ac3f-1cbf2c8a6a5f",
   "metadata": {},
   "outputs": [],
   "source": [
    "import google.generativeai as genai\n",
    "from dotenv import load_dotenv\n",
    "import os"
   ]
  },
  {
   "cell_type": "code",
   "execution_count": 4,
   "id": "5b9243e7-e661-4d61-be9c-f4d47f68ae97",
   "metadata": {},
   "outputs": [],
   "source": [
    "load_dotenv()\n",
    "\n",
    "genai.configure(api_key=os.environ.get('GEMINI_API_KEY'))"
   ]
  },
  {
   "cell_type": "markdown",
   "id": "3993d95c-d4d9-4908-9ceb-e7d2e0236b6c",
   "metadata": {},
   "source": [
    "## Model\n",
    "\n",
    "We build a class to handle API calls to the LLM, in case we decide to change the LLM model.\n",
    "\n",
    "Please make sure you have obtained the appropriate API key before continuing."
   ]
  },
  {
   "cell_type": "code",
   "execution_count": 23,
   "id": "e0de4a00-ede0-4b4e-a66d-9e5a33197d47",
   "metadata": {},
   "outputs": [],
   "source": [
    "class AbstractModel:\n",
    "    def __init__(self, base: str):\n",
    "        pass\n",
    "\n",
    "    def query(self, prompt: str) -> str:\n",
    "        raise NotImplementedError\n",
    "\n",
    "class QueryException(Exception):\n",
    "    def __init__(self, message: str):\n",
    "        super().__init__(f\"Failed to query to the LLM: {message}\")"
   ]
  },
  {
   "cell_type": "code",
   "execution_count": 24,
   "id": "695e4d31-4fb0-4d07-bb16-ad71732fe446",
   "metadata": {},
   "outputs": [],
   "source": [
    "class GeminiModel(AbstractModel):\n",
    "    def __init__(self, base: str):\n",
    "        self.base = base\n",
    "        self.client = genai.GenerativeModel('gemini-1.5-pro')\n",
    "\n",
    "    def query(self, prompt: str) -> str:\n",
    "        response = self.client.generate_content(self.base.format(prompt=prompt)).candidates[0]\n",
    "        if not hasattr(response, 'content'):\n",
    "            raise QueryException('LLM response does not have content')\n",
    "        return response.content.parts[0].text"
   ]
  },
  {
   "cell_type": "markdown",
   "id": "b84c77cb-86e4-4197-abab-2ae0f7b27446",
   "metadata": {},
   "source": [
    "## Prompt\n",
    "\n",
    "We design the prompts and attempt to get the answer here."
   ]
  },
  {
   "cell_type": "code",
   "execution_count": 9,
   "id": "67c624fd-8538-4e34-8b36-12f4ccf210ad",
   "metadata": {},
   "outputs": [],
   "source": [
    "BASE_PROMPT = \"\"\"\n",
    "{prompt}\n",
    "\"\"\""
   ]
  },
  {
   "cell_type": "code",
   "execution_count": 25,
   "id": "40dc72b9-397a-49a9-92f6-b627256953ea",
   "metadata": {},
   "outputs": [],
   "source": [
    "gemini_model = GeminiModel(BASE_PROMPT)"
   ]
  },
  {
   "cell_type": "code",
   "execution_count": 26,
   "id": "bfc699f5-28e4-4aee-b8a8-10755f738eac",
   "metadata": {},
   "outputs": [
    {
     "data": {
      "text/plain": [
       "\"As an AI, I don't have feelings, but thanks for asking! I am ready to assist you with whatever you need. How can I help you today? 😊 \\n\""
      ]
     },
     "execution_count": 26,
     "metadata": {},
     "output_type": "execute_result"
    }
   ],
   "source": [
    "gemini_model.query(\"Hello, how are you today?\")"
   ]
  },
  {
   "cell_type": "code",
   "execution_count": null,
   "id": "6c38622f-403d-46a5-aa7d-dc15f0b0dd42",
   "metadata": {},
   "outputs": [],
   "source": []
  }
 ],
 "metadata": {
  "kernelspec": {
   "display_name": "Python 3 (ipykernel)",
   "language": "python",
   "name": "python3"
  },
  "language_info": {
   "codemirror_mode": {
    "name": "ipython",
    "version": 3
   },
   "file_extension": ".py",
   "mimetype": "text/x-python",
   "name": "python",
   "nbconvert_exporter": "python",
   "pygments_lexer": "ipython3",
   "version": "3.12.0"
  }
 },
 "nbformat": 4,
 "nbformat_minor": 5
}
