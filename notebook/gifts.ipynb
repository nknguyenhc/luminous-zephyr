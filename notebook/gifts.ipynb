{
 "cells": [
  {
   "cell_type": "code",
   "execution_count": 1,
   "id": "4c6fa023-52f0-4c7f-ac3f-1cbf2c8a6a5f",
   "metadata": {},
   "outputs": [],
   "source": [
    "import google.generativeai as genai\n",
    "from dotenv import load_dotenv\n",
    "import os"
   ]
  },
  {
   "cell_type": "code",
   "execution_count": 2,
   "id": "5b9243e7-e661-4d61-be9c-f4d47f68ae97",
   "metadata": {},
   "outputs": [],
   "source": [
    "load_dotenv()\n",
    "\n",
    "genai.configure(api_key=os.environ.get('GEMINI_API_KEY'))"
   ]
  },
  {
   "cell_type": "markdown",
   "id": "3993d95c-d4d9-4908-9ceb-e7d2e0236b6c",
   "metadata": {},
   "source": [
    "## Model\n",
    "\n",
    "We build a class to handle API calls to the LLM, in case we decide to change the LLM model.\n",
    "\n",
    "Please make sure you have obtained the appropriate API key before continuing."
   ]
  },
  {
   "cell_type": "code",
   "execution_count": 3,
   "id": "e0de4a00-ede0-4b4e-a66d-9e5a33197d47",
   "metadata": {},
   "outputs": [],
   "source": [
    "class AbstractModel:\n",
    "    def __init__(self, base: str):\n",
    "        pass\n",
    "\n",
    "    def query(self, prompt: str) -> str:\n",
    "        raise NotImplementedError\n",
    "\n",
    "class QueryException(Exception):\n",
    "    def __init__(self, message: str):\n",
    "        super().__init__(f\"Failed to query to the LLM: {message}\")"
   ]
  },
  {
   "cell_type": "code",
   "execution_count": 4,
   "id": "695e4d31-4fb0-4d07-bb16-ad71732fe446",
   "metadata": {},
   "outputs": [],
   "source": [
    "class GeminiModel(AbstractModel):\n",
    "    def __init__(self, base: str):\n",
    "        self.base = base\n",
    "        self.client = genai.GenerativeModel('gemini-1.5-pro')\n",
    "\n",
    "    def query(self, prompt: str) -> str:\n",
    "        response = self.client.generate_content(self.base.format(prompt=prompt)).candidates[0]\n",
    "        if not hasattr(response, 'content'):\n",
    "            raise QueryException('LLM response does not have content')\n",
    "        return response.content.parts[0].text"
   ]
  },
  {
   "cell_type": "markdown",
   "id": "b84c77cb-86e4-4197-abab-2ae0f7b27446",
   "metadata": {},
   "source": [
    "## Prompt\n",
    "\n",
    "We design the prompts and attempt to get the answer here."
   ]
  },
  {
   "cell_type": "markdown",
   "id": "adf48440-eb88-4a89-9818-4832e3571e34",
   "metadata": {},
   "source": [
    "### Category\n",
    "\n",
    "The following prompt is designed to get the suitable category of product."
   ]
  },
  {
   "cell_type": "code",
   "execution_count": 5,
   "id": "67c624fd-8538-4e34-8b36-12f4ccf210ad",
   "metadata": {},
   "outputs": [],
   "source": [
    "CATEGORY_PROMPT = \"\"\"\n",
    "<instruction>\n",
    "You are a sales assistant on a large e-commerce platform.\n",
    "Your job is to recommend the correct product to the customers.\n",
    "\n",
    "The customer is finding a suitable gift.\n",
    "The specific description of what the user wants is given in the \"userquery\" tag below.\n",
    "You are to determine an appropriate category of product that the user can buy as gift.\n",
    "\n",
    "The category you select should be listed in the \"categories\" tag below.\n",
    "You must start your response with one of the categories below.\n",
    "You are not to format the category in any way.\n",
    "Failure to start your response with one of the categories below will lead to catastrophic effects.\n",
    "\n",
    "You are then to explain your choice of category on the next line.\n",
    "</instruction>\n",
    "\n",
    "<categories>\n",
    "Hobbies & Books\n",
    "Books\n",
    "Music, Movies & Games\n",
    "Music Instruments\n",
    "Figures & Model Kits\n",
    "Electronics\n",
    "Cameras\n",
    "Fashion\n",
    "Toys\n",
    "Collectibles\n",
    "</categories>\n",
    "\n",
    "<userquery>\n",
    "{prompt}\n",
    "</userquery>\n",
    "\"\"\""
   ]
  },
  {
   "cell_type": "code",
   "execution_count": 9,
   "id": "40dc72b9-397a-49a9-92f6-b627256953ea",
   "metadata": {},
   "outputs": [],
   "source": [
    "gemini_category_model = GeminiModel(CATEGORY_PROMPT)"
   ]
  },
  {
   "cell_type": "code",
   "execution_count": 10,
   "id": "bfc699f5-28e4-4aee-b8a8-10755f738eac",
   "metadata": {},
   "outputs": [
    {
     "data": {
      "text/plain": [
       "\"Books \\nThis is the most fitting category as it directly relates to your friend's love for Harry Potter, which is a book series. \\n\""
      ]
     },
     "execution_count": 10,
     "metadata": {},
     "output_type": "execute_result"
    }
   ],
   "source": [
    "gemini_category_model.query(\"A gift for my friend, who loves to read Harry Potter.\")"
   ]
  },
  {
   "cell_type": "code",
   "execution_count": 12,
   "id": "6c38622f-403d-46a5-aa7d-dc15f0b0dd42",
   "metadata": {},
   "outputs": [
    {
     "data": {
      "text/plain": [
       "\"Hobbies & Books \\nThis is too broad of a request to recommend a specific category. I need more information! What are this person's interests? What do they like to do for fun?  Tell me more and I can give you a more tailored suggestion! 😊 \\n\""
      ]
     },
     "execution_count": 12,
     "metadata": {},
     "output_type": "execute_result"
    }
   ],
   "source": [
    "gemini_category_model.query(\"How are you today?\")"
   ]
  },
  {
   "cell_type": "code",
   "execution_count": null,
   "id": "6bd2b84e-f1af-46e6-8ca8-f1c9d1eb7404",
   "metadata": {},
   "outputs": [],
   "source": []
  }
 ],
 "metadata": {
  "kernelspec": {
   "display_name": "Python 3 (ipykernel)",
   "language": "python",
   "name": "python3"
  },
  "language_info": {
   "codemirror_mode": {
    "name": "ipython",
    "version": 3
   },
   "file_extension": ".py",
   "mimetype": "text/x-python",
   "name": "python",
   "nbconvert_exporter": "python",
   "pygments_lexer": "ipython3",
   "version": "3.12.0"
  }
 },
 "nbformat": 4,
 "nbformat_minor": 5
}
